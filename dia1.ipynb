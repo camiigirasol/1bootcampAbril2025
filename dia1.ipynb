{
 "cells": [
  {
   "cell_type": "code",
   "execution_count": null,
   "id": "d2e46b88",
   "metadata": {},
   "outputs": [
    {
     "name": "stdout",
     "output_type": "stream",
     "text": [
      "27\n",
      "10\n"
     ]
    }
   ],
   "source": [
    "cantidad_de_manzanas = 12\n",
    "cantidad_de_naranjas = 15\n",
    "cantidad_de_frutas = cantidad_de_manzanas + cantidad_de_naranjas\n",
    "print(cantidad_de_frutas)\n",
    "frutas_vendidas = 17\n",
    "frutas_restantes = cantidad_de_frutas - frutas_vendidas\n",
    "print(frutas_restantes)"
   ]
  },
  {
   "cell_type": "code",
   "execution_count": 46,
   "id": "6402c2a6",
   "metadata": {},
   "outputs": [
    {
     "name": "stdout",
     "output_type": "stream",
     "text": [
      "Hola. Me llamo Mario Espinola Mucho gusto.\n",
      "Hola, mi nombre es Mario Espinola, Mucho gusto.\n"
     ]
    }
   ],
   "source": [
    "nombre = \"Mario\"\n",
    "apellido = \"Espinola\"\n",
    "print(\"Hola. Me llamo\" + \" \" +   nombre + \" \" + apellido + \" \" + \"Mucho gusto.\")\n",
    "nombre = \"Mario\"\n",
    "apellido = \"Espinola\"\n",
    "print(f\"Hola, mi nombre es {nombre} {apellido}, Mucho gusto.\")"
   ]
  },
  {
   "cell_type": "code",
   "execution_count": 51,
   "id": "6f5b529f",
   "metadata": {},
   "outputs": [
    {
     "name": "stdout",
     "output_type": "stream",
     "text": [
      "13\n",
      "11\n"
     ]
    }
   ],
   "source": [
    "numero1= int(input('dame un numero'))\n",
    "numero2= int(input('dame otro un numero'))\n",
    "suma1 = numero1 + numero2\n",
    "print(suma1)\n",
    "numero3 = input(\"ingresa un numero\")\n",
    "numero4= input(\"ingresa otro numero\")\n",
    "suma2 = int(numero3) + int(numero4)\n",
    "print(suma2)"
   ]
  },
  {
   "cell_type": "code",
   "execution_count": null,
   "id": "0144877b",
   "metadata": {},
   "outputs": [
    {
     "name": "stdout",
     "output_type": "stream",
     "text": [
      "ponerse los zapatos de caminata\n",
      "elegir una playlist\n",
      "salir de casa\n",
      "elegir un camino\n",
      "¡¡¡disfrutar del paseo!!!\n",
      "volver a casa :c\n",
      " \n",
      "ponerse los zapatos de caminata\n",
      "elegir una playlist\n",
      "salir de casa\n",
      "elegir un camino\n",
      "¡¡¡disfrutar del paseo!!!\n",
      "volver a casa :c\n",
      " \n",
      "ponerse los zapatos de caminata\n",
      "elegir una playlist\n",
      "salir de casa\n",
      "elegir un camino\n",
      "¡¡¡disfrutar del paseo!!!\n",
      "volver a casa :c\n"
     ]
    }
   ],
   "source": [
    "# crear una funsion de un proceso que se les ocurra que tenga varios pasos. Ejecutar la funsion 3 veces.\n",
    "def dar_un_paseo():\n",
    "    print(\"ponerse los zapatos de caminata\")\n",
    "    print(\"elegir una playlist\")\n",
    "    print(\"salir de casa\")\n",
    "    print(\"elegir un camino\")\n",
    "    print(\"¡¡¡disfrutar del paseo!!!\")\n",
    "    print(\"volver a casa :c\")\n",
    "dar_un_paseo()\n",
    "print(\" \")\n",
    "dar_un_paseo()\n",
    "print(\" \")\n",
    "dar_un_paseo()"
   ]
  },
  {
   "cell_type": "code",
   "execution_count": 115,
   "id": "40d0cae2",
   "metadata": {},
   "outputs": [
    {
     "name": "stdout",
     "output_type": "stream",
     "text": [
      "Pediste una fanta mandarina de 500ml?\n",
      "que la disfrutes!!!\n",
      "Buenas noches,lomiteria Penguin ¿cual seria su pedido?\n",
      "Buenas noches voy a querer dos lomitos arabe, una coca de litro y medio y tambien salsa de ajo y ketchup porfavor\n",
      "genial, el pedido estará listo en 10 minutos\n"
     ]
    }
   ],
   "source": [
    "#escribir una funcion agregando las caracteristicas de un elemento a comprar e imprima el elemento con sus caracteristicas.\n",
    "def gaseosas(marca, sabor, tamaño):\n",
    "    print(f\"Pediste una {marca} {sabor} de {tamaño}?\")\n",
    "    print(\"que la disfrutes!!!\")\n",
    "gaseosas(\"fanta\", \"mandarina\", \"500ml\")\n",
    "def lomiteria (producto, bebida, salsa1, salsa2):\n",
    "    print(f\"Buenas noches,lomiteria Penguin ¿cual seria su pedido?\")\n",
    "    print(f\"Buenas noches voy a querer dos {producto}, una {bebida} y tambien {salsa1} y {salsa2} porfavor\")\n",
    "    print (\"genial, el pedido estará listo en 10 minutos\")\n",
    "lomiteria(\"lomitos arabe\", \"coca de litro y medio\", \"salsa de ajo\", \"ketchup\")"
   ]
  },
  {
   "cell_type": "code",
   "execution_count": 52,
   "id": "cfb658f3",
   "metadata": {},
   "outputs": [
    {
     "name": "stdout",
     "output_type": "stream",
     "text": [
      "hola mundo\n",
      "camila\n",
      "Torres\n",
      "camila Torres\n",
      "camila Torres\n",
      "35000\n",
      "30000\n",
      "76000\n",
      "5066.666666666667\n",
      "27\n",
      "10\n",
      "Hola. Me llamo Mario Espinola Mucho gusto.\n",
      "Hola, mi nombre es Mario Espinola, Mucho gusto.\n",
      "12\n",
      "12\n"
     ]
    }
   ],
   "source": [
    "\n",
    "print(\"hola mundo\")\n",
    "nombre = \"camila\"\n",
    "apellido = \"Torres\"\n",
    "print(nombre)\n",
    "print (apellido)\n",
    "print(nombre + \" \"+ apellido)\n",
    "print(nombre, apellido)\n",
    "\n",
    "#suma\n",
    "precio_total = 15000 + 20000\n",
    "print(precio_total)\n",
    "precio_descuento = precio_total - 5000\n",
    "print(precio_descuento)\n",
    "precio_gaseosa = 19000\n",
    "cantidad_gaseosa =4\n",
    "cantidad_personas = 15\n",
    "costo_final = precio_gaseosa * cantidad_gaseosa\n",
    "promedio_persona = costo_final / cantidad_personas\n",
    "print(costo_final)\n",
    "print(promedio_persona)\n",
    "\n",
    "cantidad_de_manzanas = 12\n",
    "cantidad_de_naranjas = 15\n",
    "cantidad_de_frutas = cantidad_de_manzanas + cantidad_de_naranjas\n",
    "print(cantidad_de_frutas)\n",
    "frutas_vendidas = 17\n",
    "frutas_restantes = cantidad_de_frutas - frutas_vendidas\n",
    "print(frutas_restantes)\n",
    "\n",
    "nombre1 = \"Mario\"\n",
    "apellido1 = \"Espinola\"\n",
    "print(\"Hola. Me llamo\" + \" \" +   nombre1 + \" \" + apellido1 + \" \" + \"Mucho gusto.\")\n",
    "\n",
    "nombre2 = \"Mario\"\n",
    "apellido2 = \"Espinola\"\n",
    "print(f\"Hola, mi nombre es {nombre2} {apellido2}, Mucho gusto.\")\n",
    "\n",
    "numero1= int(input('dame un numero'))\n",
    "numero2= int(input('dame otro un numero'))\n",
    "suma1 = numero1 + numero2\n",
    "print(suma1)\n",
    "numero3 = input(\"ingresa un numero\")\n",
    "numero4= input(\"ingresa otro numero\")\n",
    "suma2 = int(numero3) + int(numero4)\n",
    "print(suma2)\n"
   ]
  }
 ],
 "metadata": {
  "kernelspec": {
   "display_name": "Python 3",
   "language": "python",
   "name": "python3"
  },
  "language_info": {
   "codemirror_mode": {
    "name": "ipython",
    "version": 3
   },
   "file_extension": ".py",
   "mimetype": "text/x-python",
   "name": "python",
   "nbconvert_exporter": "python",
   "pygments_lexer": "ipython3",
   "version": "3.13.3"
  }
 },
 "nbformat": 4,
 "nbformat_minor": 5
}
