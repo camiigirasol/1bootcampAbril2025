{
 "cells": [
  {
   "cell_type": "code",
   "execution_count": null,
   "id": "2b522ae7",
   "metadata": {},
   "outputs": [
    {
     "name": "stdout",
     "output_type": "stream",
     "text": [
      "Juguito nomas\n"
     ]
    }
   ],
   "source": [
    "comprador = int(input('Ingresa su edad'))\n",
    "if comprador < 18:\n",
    "    print('Juguito nomas')\n",
    "elif comprador >= 21:\n",
    "    print('Hace lo que quieras')\n",
    "else:\n",
    "    print('Podes tomar pero no comprar')"
   ]
  },
  {
   "cell_type": "markdown",
   "id": "a6b46c68",
   "metadata": {},
   "source": [
    "Escribir un programa en el que se pregunte al usuario por una temperatura (en grados Celsius), imprima la temperatura escrita, y luego clasificar la temperatura ingresada en los siguientes niveles:\n",
    "\n",
    "Entre -10 y 18 grados, que imprima \"Fresquete\".\n",
    "Entre 19 y 30 grados, que imprima \"Calor'i\".\n",
    "Entre 31 y 45 grados, que imprima \"Hakuuuuuu\".\n",
    "Para todo lo demás, imprimir \"Ñamano mba'e!\"."
   ]
  },
  {
   "cell_type": "code",
   "execution_count": 24,
   "id": "563c63a8",
   "metadata": {},
   "outputs": [
    {
     "name": "stdout",
     "output_type": "stream",
     "text": [
      "14\n",
      "Fresquete\n"
     ]
    }
   ],
   "source": [
    "Temperatura = int(input('¿cuantos grados hace?'))\n",
    "print(Temperatura)\n",
    "# si temp. es menor a -10 y 18 imprimir fresquete\n",
    "if Temperatura > -10 and Temperatura < 18:\n",
    "    print('Fresquete')\n",
    "elif Temperatura > 19 and Temperatura < 30:\n",
    "    print('Calor`i')\n",
    "elif Temperatura > 31 and Temperatura < 45:\n",
    "    print('Hakurooooo')\n",
    "else:\n",
    "    print('Ñamano mbae')"
   ]
  },
  {
   "cell_type": "markdown",
   "id": "2847ea76",
   "metadata": {},
   "source": [
    "Challenge 🤺 - 20m\n",
    "Escribir un programa que almacene una contraseña en una variable, y pregunte al usuario por la contraseña hasta que introduzca la contraseña correcta.\n",
    "\n",
    "Cuando el usuario ingrese la contrasena correcta, imprimir un mensaje secreto."
   ]
  },
  {
   "cell_type": "code",
   "execution_count": 3,
   "id": "223b8d3f",
   "metadata": {},
   "outputs": [
    {
     "name": "stdout",
     "output_type": "stream",
     "text": [
      "contraseña incorrecta\n",
      "contraseña incorrecta\n",
      "contraseña incorrecta\n",
      "Por fin te acordaste de tu contraseña, un dia de estos te van a hackear\n"
     ]
    }
   ],
   "source": [
    "contraseña = 'PENGUIN2025'\n",
    "while True:\n",
    "    contraseña_ingresada = str(input('ingrese su contraseña por favor') )\n",
    "    if contraseña_ingresada == contraseña:\n",
    "        print('Por fin te acordaste de tu contraseña, un dia de estos te van a hackear')\n",
    "        break\n",
    "    else:\n",
    "        print('contraseña incorrecta')"
   ]
  },
  {
   "cell_type": "markdown",
   "id": "bb504906",
   "metadata": {},
   "source": [
    "Challenge 🤺 - 20m\n",
    "Crear una lista de 5 elementos. Luego, seguir los siguientes pasos.\n",
    "\n",
    "Agregar un elemento al final de la lista.\n",
    "\n",
    "Modificar el segundo elemento. desde 1\n",
    "\n",
    "Eliminar el tercer elemento. por el indice desde 0"
   ]
  },
  {
   "cell_type": "code",
   "execution_count": 18,
   "id": "6916d242",
   "metadata": {},
   "outputs": [
    {
     "name": "stdout",
     "output_type": "stream",
     "text": [
      "['leche', 'pan', 'huevo', 'detergente', 'esponja', 'azucar']\n",
      "['leche', 'tomate', 'huevo', 'detergente', 'esponja', 'azucar']\n",
      "['leche', 'tomate', 'detergente', 'esponja', 'azucar']\n"
     ]
    }
   ],
   "source": [
    "lista_del_super = ['leche', 'pan', 'huevo','detergente', 'esponja']\n",
    "lista_del_super.append('azucar')\n",
    "print(lista_del_super)\n",
    "lista_del_super[1] = 'tomate'\n",
    "print(lista_del_super)\n",
    "lista_del_super.pop(2)\n",
    "print(lista_del_super)"
   ]
  },
  {
   "cell_type": "markdown",
   "id": "b5f4d9d6",
   "metadata": {},
   "source": [
    "Challenge 🤺 - 20m\n",
    "Escribir un programa que itere en un rango de 10 veces. Por cada iteracion multiplicar el iterador por dos e imprimir el resultado."
   ]
  },
  {
   "cell_type": "code",
   "execution_count": null,
   "id": "7d57475c",
   "metadata": {},
   "outputs": [
    {
     "name": "stdout",
     "output_type": "stream",
     "text": [
      "0\n",
      "2\n",
      "4\n",
      "6\n",
      "8\n",
      "10\n",
      "12\n",
      "14\n",
      "16\n",
      "18\n",
      "2\n",
      "4\n",
      "6\n",
      "8\n",
      "10\n",
      "12\n",
      "14\n",
      "16\n",
      "18\n",
      "20\n"
     ]
    }
   ],
   "source": [
    "for multiplicacion in range (10):\n",
    "    print(multiplicacion *2)\n",
    "    #indice desde cero la posicion que vemos desde el uno\n",
    "for multiplicacion in range (1,11):\n",
    "    print(multiplicacion *2)"
   ]
  },
  {
   "cell_type": "markdown",
   "id": "e67d33de",
   "metadata": {},
   "source": [
    "Challenge 🤺 - 20m\n",
    "Recorrer los elementos de una lista de marcas e imprimir cada marca solamente si tiene 6 letras o más."
   ]
  },
  {
   "cell_type": "code",
   "execution_count": null,
   "id": "7b7cc27a",
   "metadata": {},
   "outputs": [
    {
     "name": "stdout",
     "output_type": "stream",
     "text": [
      "Samsung\n",
      "Xiaomi\n",
      "Huawei\n"
     ]
    }
   ],
   "source": [
    "#lista/recorrer/condicion len >=6/imp.\n",
    "marcas_de_tecnologia = ['Samsung', 'Apple', 'Xiaomi', 'Oppo', 'Sony', 'Huawei']\n",
    "for marca in marcas_de_tecnologia:\n",
    "    if len (marca) >= 6:\n",
    "        print(marca)"
   ]
  },
  {
   "cell_type": "markdown",
   "id": "524e4778",
   "metadata": {},
   "source": [
    "Solicitar al usuario que ingrese una frase.\n",
    "\n",
    "Imprimir un mensaje cada vez que se encuentre una letra \"o\"."
   ]
  },
  {
   "cell_type": "code",
   "execution_count": 56,
   "id": "5f660ffd",
   "metadata": {},
   "outputs": [
    {
     "name": "stdout",
     "output_type": "stream",
     "text": [
      "el os perezoso lee el horoscopo\n",
      "QUE PELADA\n",
      "QUE PELADA\n",
      "QUE PELADA\n",
      "QUE PELADA\n",
      "QUE PELADA\n",
      "QUE PELADA\n",
      "QUE PELADA\n"
     ]
    }
   ],
   "source": [
    "#input/if/print\n",
    "frase_celebre = input('¿Cual es su frase celebre favorita?')\n",
    "print(frase_celebre)\n",
    "for frase in frase_celebre:\n",
    "    letra = 'o'\n",
    "    if frase == letra:\n",
    "        print('QUE PELADA')\n"
   ]
  }
 ],
 "metadata": {
  "kernelspec": {
   "display_name": "Python 3",
   "language": "python",
   "name": "python3"
  },
  "language_info": {
   "codemirror_mode": {
    "name": "ipython",
    "version": 3
   },
   "file_extension": ".py",
   "mimetype": "text/x-python",
   "name": "python",
   "nbconvert_exporter": "python",
   "pygments_lexer": "ipython3",
   "version": "3.13.3"
  }
 },
 "nbformat": 4,
 "nbformat_minor": 5
}
